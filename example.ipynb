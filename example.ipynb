{
 "cells": [
  {
   "cell_type": "markdown",
   "metadata": {},
   "source": [
    "Загрузка моделей (необходимы [pymorphy2](https://pymorphy2.readthedocs.org/en/latest/) и [gensim](https://radimrehurek.com/gensim/)).<br> \n",
    "Word2vec модель скачивал отсюда: http://rusvectores.org/ru/models/"
   ]
  },
  {
   "cell_type": "code",
   "execution_count": 1,
   "metadata": {},
   "outputs": [
    {
     "name": "stderr",
     "output_type": "stream",
     "text": [
      "C:\\Anaconda3\\lib\\site-packages\\gensim\\utils.py:1212: UserWarning: detected Windows; aliasing chunkize to chunkize_serial\n",
      "  warnings.warn(\"detected Windows; aliasing chunkize to chunkize_serial\")\n",
      "2018-11-03 22:44:50,136 : INFO : loading projection weights from c:/data/ruscorpora_1_300_10.bin.gz\n"
     ]
    },
    {
     "name": "stdout",
     "output_type": "stream",
     "text": [
      "loading w2v_model...\n"
     ]
    },
    {
     "name": "stderr",
     "output_type": "stream",
     "text": [
      "2018-11-03 22:44:59,097 : INFO : loaded (161301, 300) matrix from c:/data/ruscorpora_1_300_10.bin.gz\n"
     ]
    },
    {
     "name": "stdout",
     "output_type": "stream",
     "text": [
      "word2vec model 'c:/data/ruscorpora_1_300_10.bin.gz' loaded\n",
      "reading pickle poems model...\n",
      "vectorizing model...\n",
      "model is loaded\n"
     ]
    }
   ],
   "source": [
    "from poems_model import PoemsModel\n",
    "\n",
    "poems_data = './data/poems_model.pickle'\n",
    "w2v_file = 'c:/data/ruscorpora_1_300_10.bin.gz'\n",
    "pm = PoemsModel(poems_data, w2v_file)\n"
   ]
  },
  {
   "cell_type": "markdown",
   "metadata": {},
   "source": [
    "Запрос по слову \"иллюзия\""
   ]
  },
  {
   "cell_type": "code",
   "execution_count": 2,
   "metadata": {},
   "outputs": [
    {
     "name": "stdout",
     "output_type": "stream",
     "text": [
      "давайте верить в справедливость\n",
      "как верят в бога в чудеса\n",
      "или в какую то другую\n",
      "несуществующую хрень\n",
      "\t0.0027411487661781007\n",
      "проста как боль легка как правда\n",
      "неосязаема как страх\n",
      "скучна как мир пуста как память\n",
      "твоя несбывшаяся жизнь\n",
      "\t0.0026715342098110354\n",
      "никто давно не верит в сказки\n",
      "про бога и грядущий рай\n",
      "вот апокалипсис немного\n",
      "ещё способен нас увлечь\n",
      "\t0.0026713959227466777\n",
      "в альтернативном мире люди\n",
      "не умирают никогда\n",
      "и экзистенциально верят\n",
      "в отсутствие альтернатив\n",
      "\t0.0026323954856402516\n",
      "я проповедую идею\n",
      "что мастурбация не грех\n",
      "и что подобный образ жизни\n",
      "не хуже чем любой другой\n",
      "\t0.002632225599106077\n",
      "господь не верит в николая\n",
      "нет доказательства што он\n",
      "на этом свете существует\n",
      "и может на него влиять \n",
      "\t0.0025758361442683245\n",
      "я идиот а это значит\n",
      "весь мир красив и разноцветн\n",
      "все люди мудры и прекрасны\n",
      "а все кто умерли в раю\n",
      "\t0.002571888126128946\n",
      "нам код коррекции ошибок\n",
      "записан в глубину души\n",
      "чтоб мы могли картину мира\n",
      "из ложных данных извлекать\n",
      "\t0.0025433672325296257\n",
      "есть сверхспособности и в боли\n",
      "способность есть способность спать\n",
      "чудовищная ясность мысли\n",
      "невосприимчивость к дождю\n",
      "\t0.002506185212960319\n",
      "куда нас сон всегда приводит\n",
      "в унылый серый плоский мир\n",
      "где нет возможности падений\n",
      "и творческих альтернатив\n",
      "\t0.0024866966866632567\n"
     ]
    }
   ],
   "source": [
    "for poem, similarity in pm.similar_poems('иллюзия', topn=10): \n",
    "    print(f'{poem}\\t{similarity}')"
   ]
  },
  {
   "cell_type": "code",
   "execution_count": null,
   "metadata": {
    "collapsed": true
   },
   "outputs": [],
   "source": []
  }
 ],
 "metadata": {
  "kernelspec": {
   "display_name": "Python 3",
   "language": "python",
   "name": "python3"
  },
  "language_info": {
   "codemirror_mode": {
    "name": "ipython",
    "version": 3
   },
   "file_extension": ".py",
   "mimetype": "text/x-python",
   "name": "python",
   "nbconvert_exporter": "python",
   "pygments_lexer": "ipython3",
   "version": "3.6.1"
  }
 },
 "nbformat": 4,
 "nbformat_minor": 1
}
